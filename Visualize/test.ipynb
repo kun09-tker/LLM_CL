{
 "cells": [
  {
   "cell_type": "code",
   "execution_count": 28,
   "id": "1c2ef5fb",
   "metadata": {},
   "outputs": [],
   "source": [
    "import read_file"
   ]
  },
  {
   "cell_type": "code",
   "execution_count": 29,
   "id": "af9ac0e3",
   "metadata": {},
   "outputs": [],
   "source": [
    "json_data = read_file.parse_file_to_json(\"training_log_16.txt\", \"ha.json\")"
   ]
  },
  {
   "cell_type": "code",
   "execution_count": null,
   "id": "0ce677ef",
   "metadata": {},
   "outputs": [],
   "source": []
  }
 ],
 "metadata": {
  "kernelspec": {
   "display_name": ".venv",
   "language": "python",
   "name": "python3"
  },
  "language_info": {
   "codemirror_mode": {
    "name": "ipython",
    "version": 3
   },
   "file_extension": ".py",
   "mimetype": "text/x-python",
   "name": "python",
   "nbconvert_exporter": "python",
   "pygments_lexer": "ipython3",
   "version": "3.11.9"
  }
 },
 "nbformat": 4,
 "nbformat_minor": 5
}
